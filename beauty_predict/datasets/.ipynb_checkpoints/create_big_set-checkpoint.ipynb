{
 "cells": [
  {
   "cell_type": "code",
   "execution_count": 16,
   "id": "70b1d37b",
   "metadata": {},
   "outputs": [],
   "source": [
    "import pandas as pd\n",
    "import sqlite3\n",
    "import numpy as np"
   ]
  },
  {
   "cell_type": "code",
   "execution_count": 17,
   "id": "9352b839",
   "metadata": {},
   "outputs": [],
   "source": [
    "# Установка соединения с базой данных SQLite\n",
    "conn = sqlite3.connect('core.download.db')\n"
   ]
  },
  {
   "cell_type": "code",
   "execution_count": 18,
   "id": "b07fafed",
   "metadata": {},
   "outputs": [
    {
     "name": "stdout",
     "output_type": "stream",
     "text": [
      "(2111057, 7)\n"
     ]
    }
   ],
   "source": [
    "# Выполнение SQL-запроса и чтение результата в DataFrame\n",
    "query = \"SELECT * FROM img_info\"\n",
    "df = pd.read_sql(query, conn)\n",
    "\n",
    "# Закрытие соединения\n",
    "conn.close()\n",
    "\n",
    "# Вывод содержимого DataFrame\n",
    "print(df.shape)"
   ]
  },
  {
   "cell_type": "code",
   "execution_count": 27,
   "id": "9e725169",
   "metadata": {},
   "outputs": [
    {
     "data": {
      "text/plain": [
       "(10000, 7)"
      ]
     },
     "execution_count": 27,
     "metadata": {},
     "output_type": "execute_result"
    }
   ],
   "source": [
    "n_samples = 10000\n",
    "np.random.seed(0)\n",
    "\n",
    "# среди тех у которых название начинается с 7, есть те, которые не читаются, поэтому убрал (они вызывали ошибку)\n",
    "mask = df[\"img_name\"].apply(lambda x: x.startswith(\"7\") != True)\n",
    "big_df = df[mask].sample(n_samples)\n",
    "big_df.shape"
   ]
  },
  {
   "cell_type": "code",
   "execution_count": 28,
   "id": "c818893a",
   "metadata": {},
   "outputs": [
    {
     "data": {
      "text/html": [
       "<div>\n",
       "<style scoped>\n",
       "    .dataframe tbody tr th:only-of-type {\n",
       "        vertical-align: middle;\n",
       "    }\n",
       "\n",
       "    .dataframe tbody tr th {\n",
       "        vertical-align: top;\n",
       "    }\n",
       "\n",
       "    .dataframe thead th {\n",
       "        text-align: right;\n",
       "    }\n",
       "</style>\n",
       "<table border=\"1\" class=\"dataframe\">\n",
       "  <thead>\n",
       "    <tr style=\"text-align: right;\">\n",
       "      <th></th>\n",
       "      <th>id</th>\n",
       "      <th>img_path</th>\n",
       "      <th>img_name</th>\n",
       "      <th>generation_date</th>\n",
       "      <th>experiment_model_id</th>\n",
       "      <th>experiment_number</th>\n",
       "      <th>img_generation_promt</th>\n",
       "    </tr>\n",
       "  </thead>\n",
       "  <tbody>\n",
       "    <tr>\n",
       "      <th>248429</th>\n",
       "      <td>248430</td>\n",
       "      <td>/media/s1/dataset/neurostocker/core/2022/12/14...</td>\n",
       "      <td>6_a_painting,_sketch_or_pencil_drawing_of_a_ca...</td>\n",
       "      <td>2022-12-14T23:01:11.924645</td>\n",
       "      <td>1</td>\n",
       "      <td>1</td>\n",
       "      <td>6_a_painting,_sketch_or_pencil_drawing_of_a_ca...</td>\n",
       "    </tr>\n",
       "    <tr>\n",
       "      <th>229618</th>\n",
       "      <td>229619</td>\n",
       "      <td>/media/s1/dataset/neurostocker/core/2022/12/14...</td>\n",
       "      <td>6_Creative_urban_style_in_the_south_side_of_fr...</td>\n",
       "      <td>2022-12-14T00:55:39.087447</td>\n",
       "      <td>1</td>\n",
       "      <td>1</td>\n",
       "      <td>6_Creative_urban_style_in_the_south_side_of_fr...</td>\n",
       "    </tr>\n",
       "    <tr>\n",
       "      <th>137064</th>\n",
       "      <td>137065</td>\n",
       "      <td>/media/s1/dataset/neurostocker/core/2022/12/9/...</td>\n",
       "      <td>6_A_lovely,_yet_complex,_oil_painting_of_an_ea...</td>\n",
       "      <td>2022-12-09T00:46:05.830790</td>\n",
       "      <td>1</td>\n",
       "      <td>1</td>\n",
       "      <td>6_A_lovely,_yet_complex,_oil_painting_of_an_ea...</td>\n",
       "    </tr>\n",
       "    <tr>\n",
       "      <th>163837</th>\n",
       "      <td>163838</td>\n",
       "      <td>/media/s1/dataset/neurostocker/core/2022/12/10...</td>\n",
       "      <td>6_Beautiful_sunset_over_the_ocean_and_the_beau...</td>\n",
       "      <td>2022-12-10T00:09:19.053999</td>\n",
       "      <td>1</td>\n",
       "      <td>1</td>\n",
       "      <td>6_Beautiful_sunset_over_the_ocean_and_the_beau...</td>\n",
       "    </tr>\n",
       "    <tr>\n",
       "      <th>109983</th>\n",
       "      <td>109984</td>\n",
       "      <td>/media/s1/dataset/neurostocker/core/2022/12/7/...</td>\n",
       "      <td>6_A_picture_of_a_forest_in_a_city_near_the_oce...</td>\n",
       "      <td>2022-12-07T00:57:27.466723</td>\n",
       "      <td>1</td>\n",
       "      <td>1</td>\n",
       "      <td>6_A_picture_of_a_forest_in_a_city_near_the_ocean.</td>\n",
       "    </tr>\n",
       "    <tr>\n",
       "      <th>...</th>\n",
       "      <td>...</td>\n",
       "      <td>...</td>\n",
       "      <td>...</td>\n",
       "      <td>...</td>\n",
       "      <td>...</td>\n",
       "      <td>...</td>\n",
       "      <td>...</td>\n",
       "    </tr>\n",
       "    <tr>\n",
       "      <th>97891</th>\n",
       "      <td>97892</td>\n",
       "      <td>/media/s1/dataset/neurostocker/core/2022/12/7/...</td>\n",
       "      <td>6_A_cozy_room_with_lots_of_wooden_furniture,_t...</td>\n",
       "      <td>2022-12-07T00:42:00.760591</td>\n",
       "      <td>1</td>\n",
       "      <td>1</td>\n",
       "      <td>6_A_cozy_room_with_lots_of_wooden_furniture,_t...</td>\n",
       "    </tr>\n",
       "    <tr>\n",
       "      <th>43622</th>\n",
       "      <td>43623</td>\n",
       "      <td>/media/s1/dataset/neurostocker/core/2022/12/2/...</td>\n",
       "      <td>6_A_photo_taken_in_a_forest_or_in_a_garden,_in...</td>\n",
       "      <td>2022-12-02T00:56:32.297102</td>\n",
       "      <td>1</td>\n",
       "      <td>1</td>\n",
       "      <td>6_A_photo_taken_in_a_forest_or_in_a_garden,_in...</td>\n",
       "    </tr>\n",
       "    <tr>\n",
       "      <th>43407</th>\n",
       "      <td>43408</td>\n",
       "      <td>/media/s1/dataset/neurostocker/core/2022/12/2/...</td>\n",
       "      <td>6_Large_concrete_cube_with_holes_for_windows_a...</td>\n",
       "      <td>2022-12-02T00:58:42.497833</td>\n",
       "      <td>1</td>\n",
       "      <td>1</td>\n",
       "      <td>6_Large_concrete_cube_with_holes_for_windows_a...</td>\n",
       "    </tr>\n",
       "    <tr>\n",
       "      <th>115581</th>\n",
       "      <td>115582</td>\n",
       "      <td>/media/s1/dataset/neurostocker/core/2022/12/7/...</td>\n",
       "      <td>6_A_design_by_artist,_an_original_graphic_work...</td>\n",
       "      <td>2022-12-07T22:03:38.429067</td>\n",
       "      <td>1</td>\n",
       "      <td>1</td>\n",
       "      <td>6_A_design_by_artist,_an_original_graphic_work...</td>\n",
       "    </tr>\n",
       "    <tr>\n",
       "      <th>16347</th>\n",
       "      <td>16348</td>\n",
       "      <td>/media/s1/dataset/neurostocker/core/2022/11/27...</td>\n",
       "      <td>6_Forest_area_with_a_lot_of_flowers_and_butter...</td>\n",
       "      <td>2022-11-27T00:55:21.198756</td>\n",
       "      <td>1</td>\n",
       "      <td>1</td>\n",
       "      <td>6_Forest_area_with_a_lot_of_flowers_and_butter...</td>\n",
       "    </tr>\n",
       "  </tbody>\n",
       "</table>\n",
       "<p>10000 rows × 7 columns</p>\n",
       "</div>"
      ],
      "text/plain": [
       "            id                                           img_path  \\\n",
       "248429  248430  /media/s1/dataset/neurostocker/core/2022/12/14...   \n",
       "229618  229619  /media/s1/dataset/neurostocker/core/2022/12/14...   \n",
       "137064  137065  /media/s1/dataset/neurostocker/core/2022/12/9/...   \n",
       "163837  163838  /media/s1/dataset/neurostocker/core/2022/12/10...   \n",
       "109983  109984  /media/s1/dataset/neurostocker/core/2022/12/7/...   \n",
       "...        ...                                                ...   \n",
       "97891    97892  /media/s1/dataset/neurostocker/core/2022/12/7/...   \n",
       "43622    43623  /media/s1/dataset/neurostocker/core/2022/12/2/...   \n",
       "43407    43408  /media/s1/dataset/neurostocker/core/2022/12/2/...   \n",
       "115581  115582  /media/s1/dataset/neurostocker/core/2022/12/7/...   \n",
       "16347    16348  /media/s1/dataset/neurostocker/core/2022/11/27...   \n",
       "\n",
       "                                                 img_name  \\\n",
       "248429  6_a_painting,_sketch_or_pencil_drawing_of_a_ca...   \n",
       "229618  6_Creative_urban_style_in_the_south_side_of_fr...   \n",
       "137064  6_A_lovely,_yet_complex,_oil_painting_of_an_ea...   \n",
       "163837  6_Beautiful_sunset_over_the_ocean_and_the_beau...   \n",
       "109983  6_A_picture_of_a_forest_in_a_city_near_the_oce...   \n",
       "...                                                   ...   \n",
       "97891   6_A_cozy_room_with_lots_of_wooden_furniture,_t...   \n",
       "43622   6_A_photo_taken_in_a_forest_or_in_a_garden,_in...   \n",
       "43407   6_Large_concrete_cube_with_holes_for_windows_a...   \n",
       "115581  6_A_design_by_artist,_an_original_graphic_work...   \n",
       "16347   6_Forest_area_with_a_lot_of_flowers_and_butter...   \n",
       "\n",
       "                   generation_date  experiment_model_id  experiment_number  \\\n",
       "248429  2022-12-14T23:01:11.924645                    1                  1   \n",
       "229618  2022-12-14T00:55:39.087447                    1                  1   \n",
       "137064  2022-12-09T00:46:05.830790                    1                  1   \n",
       "163837  2022-12-10T00:09:19.053999                    1                  1   \n",
       "109983  2022-12-07T00:57:27.466723                    1                  1   \n",
       "...                            ...                  ...                ...   \n",
       "97891   2022-12-07T00:42:00.760591                    1                  1   \n",
       "43622   2022-12-02T00:56:32.297102                    1                  1   \n",
       "43407   2022-12-02T00:58:42.497833                    1                  1   \n",
       "115581  2022-12-07T22:03:38.429067                    1                  1   \n",
       "16347   2022-11-27T00:55:21.198756                    1                  1   \n",
       "\n",
       "                                     img_generation_promt  \n",
       "248429  6_a_painting,_sketch_or_pencil_drawing_of_a_ca...  \n",
       "229618  6_Creative_urban_style_in_the_south_side_of_fr...  \n",
       "137064  6_A_lovely,_yet_complex,_oil_painting_of_an_ea...  \n",
       "163837  6_Beautiful_sunset_over_the_ocean_and_the_beau...  \n",
       "109983  6_A_picture_of_a_forest_in_a_city_near_the_ocean.  \n",
       "...                                                   ...  \n",
       "97891   6_A_cozy_room_with_lots_of_wooden_furniture,_t...  \n",
       "43622   6_A_photo_taken_in_a_forest_or_in_a_garden,_in...  \n",
       "43407   6_Large_concrete_cube_with_holes_for_windows_a...  \n",
       "115581  6_A_design_by_artist,_an_original_graphic_work...  \n",
       "16347   6_Forest_area_with_a_lot_of_flowers_and_butter...  \n",
       "\n",
       "[10000 rows x 7 columns]"
      ]
     },
     "execution_count": 28,
     "metadata": {},
     "output_type": "execute_result"
    }
   ],
   "source": [
    "big_df"
   ]
  },
  {
   "cell_type": "code",
   "execution_count": 29,
   "id": "15b059df",
   "metadata": {},
   "outputs": [],
   "source": [
    "big_df.to_csv(\"big_set.csv\", index=False)"
   ]
  },
  {
   "cell_type": "code",
   "execution_count": 31,
   "id": "1b8b81e7",
   "metadata": {},
   "outputs": [],
   "source": [
    "import os"
   ]
  },
  {
   "cell_type": "code",
   "execution_count": null,
   "id": "9c6dcea4",
   "metadata": {},
   "outputs": [],
   "source": [
    "# записываем в нужном формате в директорию с моделью для предикта."
   ]
  },
  {
   "cell_type": "code",
   "execution_count": 32,
   "id": "7e5613ac",
   "metadata": {},
   "outputs": [],
   "source": [
    "model_dir_path = os.path.join(\"..\", \"..\", \"personalizedImageAesthetics\")"
   ]
  },
  {
   "cell_type": "code",
   "execution_count": 33,
   "id": "33e298a5",
   "metadata": {},
   "outputs": [],
   "source": [
    "with open(os.path.join(model_dir_path, \"big_set.txt\"), \"w\") as f:\n",
    "    for index, row in big_df.iterrows():\n",
    "        f.write(row[\"img_path\"]+\"\\n\")"
   ]
  },
  {
   "cell_type": "code",
   "execution_count": null,
   "id": "544d0b80",
   "metadata": {},
   "outputs": [],
   "source": []
  }
 ],
 "metadata": {
  "kernelspec": {
   "display_name": "Python 3 (ipykernel)",
   "language": "python",
   "name": "python3"
  },
  "language_info": {
   "codemirror_mode": {
    "name": "ipython",
    "version": 3
   },
   "file_extension": ".py",
   "mimetype": "text/x-python",
   "name": "python",
   "nbconvert_exporter": "python",
   "pygments_lexer": "ipython3",
   "version": "3.9.16"
  }
 },
 "nbformat": 4,
 "nbformat_minor": 5
}
