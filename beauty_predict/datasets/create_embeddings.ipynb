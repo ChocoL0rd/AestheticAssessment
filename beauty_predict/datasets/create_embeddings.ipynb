{
 "cells": [
  {
   "cell_type": "code",
   "execution_count": 1,
   "id": "60935b17",
   "metadata": {},
   "outputs": [
    {
     "name": "stderr",
     "output_type": "stream",
     "text": [
      "/home/raph/fast_mem/anaconda3/envs/BeautyPredict/lib/python3.9/site-packages/tqdm/auto.py:21: TqdmWarning: IProgress not found. Please update jupyter and ipywidgets. See https://ipywidgets.readthedocs.io/en/stable/user_install.html\n",
      "  from .autonotebook import tqdm as notebook_tqdm\n"
     ]
    }
   ],
   "source": [
    "from PIL import Image\n",
    "import torch\n",
    "import clip\n",
    "import pandas as pd\n",
    "from tqdm import tqdm\n",
    "import os"
   ]
  },
  {
   "cell_type": "code",
   "execution_count": 2,
   "id": "83e66a4c",
   "metadata": {},
   "outputs": [],
   "source": [
    "device = \"cuda\" if torch.cuda.is_available() else \"cpu\"\n",
    "emb_dir = \"embeddings\""
   ]
  },
  {
   "cell_type": "code",
   "execution_count": 38,
   "id": "2a982751",
   "metadata": {},
   "outputs": [],
   "source": [
    "# Загрузка предобученной модели CLIP\n",
    "# name = \"RN50\"\n",
    "# name = \"RN50x4\"\n",
    "# name = \"RN101\"\n",
    "# name = \"ViT-B/32\"\n",
    "# name = \"ViT-B/16\"\n",
    "name = \"ViT-L/14\"\n",
    "model, preprocess = clip.load(name, device=device)\n",
    "name = name.replace(\"/\", \"\")"
   ]
  },
  {
   "cell_type": "code",
   "execution_count": 39,
   "id": "2c64c05b",
   "metadata": {},
   "outputs": [],
   "source": [
    "full_set = pd.read_csv(\"full_set.csv\")"
   ]
  },
  {
   "cell_type": "code",
   "execution_count": 40,
   "id": "78bc07a7",
   "metadata": {},
   "outputs": [
    {
     "name": "stderr",
     "output_type": "stream",
     "text": [
      "2256it [08:34,  4.38it/s]\n"
     ]
    }
   ],
   "source": [
    "# сохранение всех эмбеддингов\n",
    "ids = []\n",
    "img_embs = []\n",
    "text_embs = []\n",
    "\n",
    "img_emb_df = pd.DataFrame()\n",
    "text_emb_df = pd.DataFrame()\n",
    "both_emb_df = pd.DataFrame()\n",
    "\n",
    "\n",
    "for index, row in tqdm(full_set.iterrows()):\n",
    "    img = preprocess(Image.open(row[\"img_path\"])).unsqueeze(0).to(device)\n",
    "    promt = clip.tokenize(row[\"img_generation_promt\"]).to(device)\n",
    "    \n",
    "    with torch.no_grad():\n",
    "        img_emb = model.encode_image(img)\n",
    "        text_emb = model.encode_text(promt)\n",
    "        both_emb = torch.cat([img_emb, text_emb], axis=1)\n",
    "\n",
    "    img_column_names = [f'emb{i}' for i in range(img_emb.size(1))]\n",
    "    img_tmp_df = pd.DataFrame(img_emb.cpu().numpy(), columns=img_column_names, dtype=\"float16\")\n",
    "    img_tmp_df[\"id\"] = row[\"id\"]\n",
    "    img_emb_df = pd.concat([img_emb_df, img_tmp_df])\n",
    "    \n",
    "    \n",
    "    text_column_names = [f'emb{i}' for i in range(text_emb.size(1))]\n",
    "    text_tmp_df = pd.DataFrame(text_emb.cpu().numpy(), columns=text_column_names, dtype=\"float16\")\n",
    "    text_tmp_df[\"id\"] = row[\"id\"]\n",
    "    text_emb_df = pd.concat([text_emb_df, text_tmp_df])\n",
    "    \n",
    "    both_column_names = [f'emb{i}' for i in range(both_emb.size(1))]\n",
    "    both_tmp_df = pd.DataFrame(both_emb.cpu().numpy(), columns=both_column_names, dtype=\"float16\")\n",
    "    both_tmp_df[\"id\"] = row[\"id\"]\n",
    "    both_emb_df = pd.concat([both_emb_df, both_tmp_df])\n",
    "\n",
    "    \n",
    "img_emb_df = img_emb_df[[\"id\", *img_column_names]]\n",
    "img_emb_df.to_csv(os.path.join(emb_dir, name + \"_img.csv\"), index=False)\n",
    "\n",
    "text_emb_df = text_emb_df[[\"id\", *text_column_names]]\n",
    "text_emb_df.to_csv(os.path.join(emb_dir, name + \"_text.csv\"), index=False)\n",
    "\n",
    "both_emb_df = both_emb_df[[\"id\", *both_column_names]]\n",
    "both_emb_df.to_csv(os.path.join(emb_dir, name + \"_both.csv\"), index=False)\n"
   ]
  },
  {
   "cell_type": "code",
   "execution_count": 32,
   "id": "baded1fc",
   "metadata": {},
   "outputs": [
    {
     "data": {
      "text/plain": [
       "tensor(True)"
      ]
     },
     "execution_count": 32,
     "metadata": {},
     "output_type": "execute_result"
    }
   ],
   "source": [
    "check_df = pd.read_csv(os.path.join(emb_dir, name + \"_img.csv\"))\n",
    "(text_emb.cpu() == torch.tensor(check_df.drop(\"id\", axis=1).values, dtype=torch.float16)).any()"
   ]
  },
  {
   "cell_type": "code",
   "execution_count": 33,
   "id": "63476aac",
   "metadata": {},
   "outputs": [
    {
     "data": {
      "text/plain": [
       "tensor(True)"
      ]
     },
     "execution_count": 33,
     "metadata": {},
     "output_type": "execute_result"
    }
   ],
   "source": [
    "check_df = pd.read_csv(os.path.join(emb_dir, name + \"_text.csv\"))\n",
    "(text_emb.cpu() == torch.tensor(check_df.drop(\"id\", axis=1).values, dtype=torch.float16)).any()"
   ]
  },
  {
   "cell_type": "code",
   "execution_count": 34,
   "id": "8de23558",
   "metadata": {},
   "outputs": [
    {
     "data": {
      "text/plain": [
       "tensor(True)"
      ]
     },
     "execution_count": 34,
     "metadata": {},
     "output_type": "execute_result"
    }
   ],
   "source": [
    "check_df = pd.read_csv(os.path.join(emb_dir, name + \"_both.csv\"))\n",
    "(both_emb.cpu() == torch.tensor(check_df.drop(\"id\", axis=1).values, dtype=torch.float16)).any()"
   ]
  },
  {
   "cell_type": "code",
   "execution_count": 22,
   "id": "b698f52e",
   "metadata": {},
   "outputs": [
    {
     "data": {
      "text/plain": [
       "tensor([-0.0165, -0.0292, -0.0511,  ..., -0.3103,  0.0547, -0.1815])"
      ]
     },
     "execution_count": 22,
     "metadata": {},
     "output_type": "execute_result"
    }
   ],
   "source": [
    "torch.tensor(check_df.iloc[-1].drop(\"id\").values, dtype=torch.float16).to(torch.float32)"
   ]
  },
  {
   "cell_type": "code",
   "execution_count": null,
   "id": "ca7e0910",
   "metadata": {},
   "outputs": [],
   "source": []
  }
 ],
 "metadata": {
  "kernelspec": {
   "display_name": "Python 3 (ipykernel)",
   "language": "python",
   "name": "python3"
  },
  "language_info": {
   "codemirror_mode": {
    "name": "ipython",
    "version": 3
   },
   "file_extension": ".py",
   "mimetype": "text/x-python",
   "name": "python",
   "nbconvert_exporter": "python",
   "pygments_lexer": "ipython3",
   "version": "3.9.16"
  }
 },
 "nbformat": 4,
 "nbformat_minor": 5
}
