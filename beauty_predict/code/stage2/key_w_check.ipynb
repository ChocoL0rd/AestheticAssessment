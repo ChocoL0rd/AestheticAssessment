{
 "cells": [
  {
   "cell_type": "code",
   "execution_count": null,
   "id": "6d92a6ac",
   "metadata": {},
   "outputs": [],
   "source": [
    "import open_clip\n",
    "import torch\n",
    "from PIL import Image\n",
    "\n",
    "import numpy as np\n",
    "import pandas as pd\n",
    "from sklearn.manifold import TSNE\n",
    "import matplotlib.pyplot as plt\n",
    "import os\n",
    "import shutil\n",
    "from tqdm import tqdm\n",
    "from sklearn.cluster import DBSCAN, KMeans\n",
    "from sklearn.preprocessing import StandardScaler\n",
    "\n",
    "from scipy.spatial.distance import cosine\n",
    "from scipy.stats import spearmanr, pearsonr\n",
    "\n",
    "import torch.nn.functional as F\n"
   ]
  },
  {
   "cell_type": "code",
   "execution_count": null,
   "id": "c85cd731",
   "metadata": {},
   "outputs": [],
   "source": [
    "def create_tsne(df):\n",
    "    # Select the numerical columns from the DataFrame\n",
    "    numerical_columns = df.select_dtypes(include=[np.float64])\n",
    "\n",
    "    # Perform T-SNE on the numerical columns\n",
    "    tsne = TSNE(n_components=2, random_state=42)\n",
    "    tsne_results = tsne.fit_transform(numerical_columns)\n",
    "    \n",
    "    return tsne, tsne_results"
   ]
  },
  {
   "cell_type": "code",
   "execution_count": null,
   "id": "f9c14a3f",
   "metadata": {},
   "outputs": [],
   "source": [
    "def capture_tsne(tsne_df, df):\n",
    "    # Optional: If you have labels or categories in your DataFrame, you can include them in the T-SNE DataFrame\n",
    "    tsne_df['label'] = df['label']\n",
    "\n",
    "    # Visualize the T-SNE results\n",
    "    for label in tsne_df[\"label\"].unique():\n",
    "        plt.scatter(\n",
    "            tsne_df[\"TSNE1\"][tsne_df[\"label\"]==label],\n",
    "            tsne_df[\"TSNE2\"][tsne_df[\"label\"]==label],\n",
    "            label=label\n",
    "        )\n",
    "    \n",
    "    plt.xlabel('TSNE1')\n",
    "    plt.ylabel('TSNE2')\n",
    "    plt.title('T-SNE Visualization')\n",
    "    plt.legend()\n",
    "    \n",
    "    plt.show()"
   ]
  },
  {
   "cell_type": "code",
   "execution_count": null,
   "id": "6d51a6cf",
   "metadata": {},
   "outputs": [],
   "source": [
    "data_path = os.path.join(\"..\", \"..\", \"datasets\")\n",
    "full_set = pd.read_csv(os.path.join(data_path, \"full_set.csv\"))\n",
    "full_set[\"img_path\"] = full_set[\"img_path\"].transform(lambda x: os.path.join(data_path, x))\n",
    "full_set"
   ]
  },
  {
   "cell_type": "code",
   "execution_count": null,
   "id": "b578d0f6",
   "metadata": {},
   "outputs": [],
   "source": [
    "emb_dir = os.path.join(data_path, \"embeddings\")"
   ]
  },
  {
   "cell_type": "code",
   "execution_count": null,
   "id": "52ae4723",
   "metadata": {},
   "outputs": [],
   "source": [
    "name = \"open_clip_ViT-G-14_img\"\n",
    "\n",
    "df = pd.read_csv(os.path.join(emb_dir, f\"{name}.csv\"))\n",
    "\n",
    "merged_df = full_set[[\"id\", \"rating\"]].merge(df, on=\"id\").rename(\n",
    "    {\n",
    "        \"rating\": \"label\"\n",
    "    }, axis=1)\n",
    "\n",
    "merged_df"
   ]
  },
  {
   "cell_type": "code",
   "execution_count": null,
   "id": "64c87c9c",
   "metadata": {},
   "outputs": [],
   "source": [
    "key_w_embs = pd.read_csv(\"open_clip_ViT-G-14_key_word_embs.csv\").drop(\"Unnamed: 0\", axis=1)\n",
    "key_w_embs"
   ]
  },
  {
   "cell_type": "code",
   "execution_count": null,
   "id": "98aab6e1",
   "metadata": {},
   "outputs": [],
   "source": [
    "emb_col_names = [i for i in merged_df.columns if i.startswith(\"emb\")]"
   ]
  },
  {
   "cell_type": "code",
   "execution_count": null,
   "id": "03d0bf22",
   "metadata": {},
   "outputs": [],
   "source": [
    "img_embs = np.array(merged_df[emb_col_names])\n",
    "img_embs"
   ]
  },
  {
   "cell_type": "code",
   "execution_count": null,
   "id": "63abdc1e",
   "metadata": {},
   "outputs": [],
   "source": [
    "text_embs = np.array(key_w_embs)\n",
    "text_embs"
   ]
  },
  {
   "cell_type": "code",
   "execution_count": null,
   "id": "2396c658",
   "metadata": {},
   "outputs": [],
   "source": [
    "probs = F.softmax(torch.tensor(img_embs @ text_embs.T), dim=1)"
   ]
  },
  {
   "cell_type": "code",
   "execution_count": null,
   "id": "be2724ae",
   "metadata": {},
   "outputs": [],
   "source": [
    "probs"
   ]
  },
  {
   "cell_type": "code",
   "execution_count": null,
   "id": "2c1cad4d",
   "metadata": {},
   "outputs": [],
   "source": [
    "prob_df = pd.DataFrame({\n",
    "    \"id\": full_set[\"id\"],\n",
    "    \"label\": full_set[\"rating\"],\n",
    "    **{f\"prob_{i}\":probs[:, i] for i in range(probs.shape[1])}\n",
    "})\n",
    "prob_df"
   ]
  },
  {
   "cell_type": "code",
   "execution_count": null,
   "id": "89121e46",
   "metadata": {},
   "outputs": [],
   "source": [
    "corr_matrix = prob_df.drop(\"id\", axis=1).corr()\n",
    "corr_matrix"
   ]
  },
  {
   "cell_type": "code",
   "execution_count": null,
   "id": "88b67ad3",
   "metadata": {},
   "outputs": [],
   "source": [
    "import seaborn as sns\n",
    "\n",
    "plt.figure(figsize=(10, 8))\n",
    "\n",
    "sns.heatmap(corr_matrix, cmap=\"coolwarm\", square=True)\n",
    "# Настройка масштаба осей\n",
    "plt.ylim(corr_matrix.shape[0], 0)\n",
    "plt.xlim(0, corr_matrix.shape[1])\n",
    "\n",
    "# Отображение графика\n",
    "plt.show()"
   ]
  },
  {
   "cell_type": "code",
   "execution_count": null,
   "id": "907c6d62",
   "metadata": {},
   "outputs": [],
   "source": [
    "corr_matrix[\"label\"].sort_values()"
   ]
  }
 ],
 "metadata": {
  "kernelspec": {
   "display_name": "Python 3 (ipykernel)",
   "language": "python",
   "name": "python3"
  },
  "language_info": {
   "codemirror_mode": {
    "name": "ipython",
    "version": 3
   },
   "file_extension": ".py",
   "mimetype": "text/x-python",
   "name": "python",
   "nbconvert_exporter": "python",
   "pygments_lexer": "ipython3",
   "version": "3.9.16"
  }
 },
 "nbformat": 4,
 "nbformat_minor": 5
}
