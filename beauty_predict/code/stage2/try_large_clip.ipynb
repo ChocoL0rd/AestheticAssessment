{
 "cells": [
  {
   "cell_type": "code",
   "execution_count": null,
   "id": "20a0c993",
   "metadata": {},
   "outputs": [],
   "source": [
    "import open_clip\n",
    "import torch\n",
    "from PIL import Image\n",
    "\n",
    "import numpy as np\n",
    "import pandas as pd\n",
    "from sklearn.manifold import TSNE\n",
    "import matplotlib.pyplot as plt\n",
    "import os\n",
    "import shutil\n",
    "from tqdm import tqdm\n",
    "from sklearn.cluster import DBSCAN, KMeans\n",
    "from sklearn.preprocessing import StandardScaler\n",
    "\n",
    "from scipy.spatial.distance import cosine\n",
    "from scipy.stats import spearmanr, pearsonr\n"
   ]
  },
  {
   "cell_type": "code",
   "execution_count": null,
   "id": "d55100df",
   "metadata": {},
   "outputs": [],
   "source": [
    "def create_tsne(df):\n",
    "    # Select the numerical columns from the DataFrame\n",
    "    numerical_columns = df.select_dtypes(include=[np.float64])\n",
    "\n",
    "    # Perform T-SNE on the numerical columns\n",
    "    tsne = TSNE(n_components=2, random_state=42)\n",
    "    tsne_results = tsne.fit_transform(numerical_columns)\n",
    "    \n",
    "    return tsne, tsne_results"
   ]
  },
  {
   "cell_type": "code",
   "execution_count": null,
   "id": "ea8f8418",
   "metadata": {},
   "outputs": [],
   "source": [
    "def capture_tsne(tsne_df, df):\n",
    "    # Optional: If you have labels or categories in your DataFrame, you can include them in the T-SNE DataFrame\n",
    "    tsne_df['label'] = df['label']\n",
    "\n",
    "    # Visualize the T-SNE results\n",
    "    for label in tsne_df[\"label\"].unique():\n",
    "        plt.scatter(\n",
    "            tsne_df[\"TSNE1\"][tsne_df[\"label\"]==label],\n",
    "            tsne_df[\"TSNE2\"][tsne_df[\"label\"]==label],\n",
    "            label=label\n",
    "        )\n",
    "    \n",
    "    plt.xlabel('TSNE1')\n",
    "    plt.ylabel('TSNE2')\n",
    "    plt.title('T-SNE Visualization')\n",
    "    plt.legend()\n",
    "    \n",
    "    plt.show()"
   ]
  },
  {
   "cell_type": "markdown",
   "id": "8109ab21",
   "metadata": {},
   "source": [
    "<h1> Пробуем большой CLIP </h1>"
   ]
  },
  {
   "cell_type": "code",
   "execution_count": null,
   "id": "1e7b3b77",
   "metadata": {},
   "outputs": [],
   "source": [
    "data_path = os.path.join(\"..\", \"..\", \"datasets\")\n",
    "full_set = pd.read_csv(os.path.join(data_path, \"full_set.csv\"))\n",
    "full_set[\"img_path\"] = full_set[\"img_path\"].transform(lambda x: os.path.join(data_path, x))\n",
    "full_set"
   ]
  },
  {
   "cell_type": "code",
   "execution_count": null,
   "id": "8468d1a2",
   "metadata": {},
   "outputs": [],
   "source": [
    "emb_dir = os.path.join(data_path, \"embeddings\")"
   ]
  },
  {
   "cell_type": "code",
   "execution_count": null,
   "id": "bf547f8e",
   "metadata": {},
   "outputs": [],
   "source": [
    "name = \"open_clip_ViT-G-14_img\"\n",
    "\n",
    "df = pd.read_csv(os.path.join(emb_dir, f\"{name}.csv\"))\n",
    "\n",
    "merged_df = full_set[[\"id\", \"rating\"]].merge(df, on=\"id\").rename(\n",
    "    {\n",
    "        \"rating\": \"label\"\n",
    "    }, axis=1)\n",
    "\n",
    "tsne, tsne_results = create_tsne(merged_df)\n",
    "\n",
    "tsne_df = pd.DataFrame(tsne_results, columns=['TSNE1', 'TSNE2'])\n",
    "\n",
    "capture_tsne(tsne_df, merged_df)"
   ]
  },
  {
   "cell_type": "code",
   "execution_count": null,
   "id": "5af891d9",
   "metadata": {},
   "outputs": [],
   "source": [
    "name = \"open_clip_ViT-G-14_text\"\n",
    "\n",
    "df = pd.read_csv(os.path.join(emb_dir, f\"{name}.csv\"))\n",
    "\n",
    "merged_df = full_set[[\"id\", \"rating\"]].merge(df, on=\"id\").rename(\n",
    "    {\n",
    "        \"rating\": \"label\"\n",
    "    }, axis=1)\n",
    "\n",
    "tsne, tsne_results = create_tsne(merged_df)\n",
    "\n",
    "tsne_df = pd.DataFrame(tsne_results, columns=['TSNE1', 'TSNE2'])\n",
    "\n",
    "capture_tsne(tsne_df, merged_df)"
   ]
  },
  {
   "cell_type": "code",
   "execution_count": null,
   "id": "b6b0c0c4",
   "metadata": {},
   "outputs": [],
   "source": [
    "name = \"open_clip_ViT-G-14_both\"\n",
    "\n",
    "df = pd.read_csv(os.path.join(emb_dir, f\"{name}.csv\"))\n",
    "\n",
    "merged_df = full_set[[\"id\", \"rating\"]].merge(df, on=\"id\").rename(\n",
    "    {\n",
    "        \"rating\": \"label\"\n",
    "    }, axis=1)\n",
    "\n",
    "tsne, tsne_results = create_tsne(merged_df)\n",
    "\n",
    "tsne_df = pd.DataFrame(tsne_results, columns=['TSNE1', 'TSNE2'])\n",
    "\n",
    "capture_tsne(tsne_df, merged_df)"
   ]
  },
  {
   "cell_type": "code",
   "execution_count": null,
   "id": "7d3ba94b",
   "metadata": {},
   "outputs": [],
   "source": []
  },
  {
   "cell_type": "markdown",
   "id": "78422b32",
   "metadata": {},
   "source": [
    "<h1> Пробуем кластеризовать на img эмбеддингах </h1>"
   ]
  },
  {
   "cell_type": "code",
   "execution_count": null,
   "id": "3fdbd7d0",
   "metadata": {},
   "outputs": [],
   "source": [
    "name = \"open_clip_ViT-G-14_img\"\n",
    "\n",
    "df = pd.read_csv(os.path.join(emb_dir, f\"{name}.csv\"))\n",
    "\n",
    "# добавляем еще img_path\n",
    "merged_df = full_set[[\"id\", \"rating\", \"img_path\"]].merge(df, on=\"id\").rename(\n",
    "    {\n",
    "        \"rating\": \"label\"\n",
    "    }, axis=1)\n",
    "\n",
    "tsne, tsne_results = create_tsne(merged_df)\n",
    "\n",
    "tsne_df = pd.DataFrame(tsne_results, columns=['TSNE1', 'TSNE2'])\n",
    "\n",
    "capture_tsne(tsne_df, merged_df)"
   ]
  },
  {
   "cell_type": "code",
   "execution_count": null,
   "id": "6fc7ae8e",
   "metadata": {},
   "outputs": [],
   "source": [
    "# Train KMeans on the numerical columns\n",
    "n_clusters=40\n",
    "kmeans = KMeans(n_clusters=n_clusters, n_init=\"auto\", max_iter=1000, random_state=0)\n",
    "clusters = kmeans.fit_predict(merged_df.select_dtypes(include=[np.float64]))\n",
    "\n",
    "# Create a new DataFrame with the cluster labels\n",
    "cluster_df = pd.DataFrame(clusters, columns=['cluster'])\n",
    "\n",
    "combined_df = pd.concat([tsne_df, cluster_df], axis=1)\n",
    "unique_clusters = combined_df['cluster'].unique()\n",
    "scatter = []\n",
    "for cluster in unique_clusters:\n",
    "    cluster_data = combined_df[combined_df['cluster'] == cluster]\n",
    "    plt.scatter(cluster_data['TSNE1'], cluster_data['TSNE2'], label=f'cluster {cluster}')\n",
    "\n",
    "plt.xlabel('TSNE1')\n",
    "plt.ylabel('TSNE2')\n",
    "plt.title('KMeans Clustering')\n",
    "# plt.legend()"
   ]
  },
  {
   "cell_type": "code",
   "execution_count": null,
   "id": "39ddfd49",
   "metadata": {},
   "outputs": [],
   "source": [
    "emb_col_names = [i for i in df.columns if i.startswith(\"emb\")]\n",
    "len(emb_col_names)"
   ]
  },
  {
   "cell_type": "code",
   "execution_count": null,
   "id": "ed3b99d0",
   "metadata": {},
   "outputs": [],
   "source": [
    "merged_df[\"cluster\"] = cluster_df[\"cluster\"]\n",
    "merged_df"
   ]
  },
  {
   "cell_type": "code",
   "execution_count": null,
   "id": "afe38527",
   "metadata": {
    "scrolled": true
   },
   "outputs": [],
   "source": [
    "# найдем центроиды\n",
    "centroids = merged_df.groupby(\"cluster\", as_index=False).aggregate({i:\"mean\" for i in emb_col_names})\n",
    "centroids\n"
   ]
  },
  {
   "cell_type": "code",
   "execution_count": null,
   "id": "f7123f6e",
   "metadata": {
    "scrolled": true
   },
   "outputs": [],
   "source": [
    "save_path = \"cos_dist\"\n",
    "if os.path.exists(save_path):\n",
    "    shutil.rmtree(save_path)\n",
    "os.mkdir(save_path)\n",
    "    \n",
    "# по косинусному расстоянию\n",
    "\n",
    "for index, row in centroids.iterrows():\n",
    "    clstr = row[\"cluster\"]\n",
    "    clstr_centroid = np.array(row.drop(\"cluster\"))\n",
    "    \n",
    "    clstr_embs = np.array(merged_df[merged_df[\"cluster\"]==clstr][emb_col_names])\n",
    "    clstr_df = merged_df[merged_df[\"cluster\"] == clstr][[\"id\", \"img_path\", \"label\"]]\n",
    "    \n",
    "    \n",
    "    cos_dists = np.zeros(clstr_embs.shape[0])\n",
    "    for i, emb in enumerate(clstr_embs):\n",
    "        cos_dists[i] = cosine(emb, clstr_centroid)\n",
    "    \n",
    "    spearman_corr, spearman_p_value = spearmanr(clstr_df[\"label\"], cos_dists)\n",
    "    pearson_corr, pearson_p_value = pearsonr(clstr_df[\"label\"], cos_dists)\n",
    "\n",
    "    \n",
    "    plt.title(f\"Cluster {clstr}, sprmn: {spearman_corr} p-value: {spearman_p_value}; prsn: {pearson_corr}, p-value: {pearson_p_value}\")\n",
    "    plt.scatter(clstr_df[\"label\"], cos_dists)\n",
    "    plt.show()\n",
    "    \n",
    "    clstr_df[\"dist\"] = cos_dists\n",
    "    \n",
    "    os.mkdir(os.path.join(save_path, str(clstr)))\n",
    "    for i, row1 in clstr_df.sort_values(by=\"dist\", ascending=False).head(5).iterrows():\n",
    "        shutil.copyfile(\n",
    "            row1[\"img_path\"],\n",
    "            os.path.join(save_path, str(clstr), os.path.basename(row1[\"img_path\"]))\n",
    "        )\n",
    "\n"
   ]
  },
  {
   "cell_type": "code",
   "execution_count": null,
   "id": "68875bcd",
   "metadata": {
    "scrolled": true
   },
   "outputs": [],
   "source": [
    "save_path = \"l2_dist\"\n",
    "if os.path.exists(save_path):\n",
    "    shutil.rmtree(save_path)\n",
    "os.mkdir(save_path)\n",
    "\n",
    "\n",
    "# по l2 расстоянию\n",
    "for index, row in centroids.iterrows():\n",
    "    clstr = row[\"cluster\"]\n",
    "    clstr_centroid = np.array(row.drop(\"cluster\"))\n",
    "\n",
    "    clstr_embs = np.array(merged_df[merged_df[\"cluster\"]==clstr][emb_col_names])\n",
    "    clstr_df = merged_df[merged_df[\"cluster\"] == clstr][[\"id\", \"img_path\", \"label\"]]\n",
    "\n",
    "    l2_dists = np.linalg.norm(clstr_embs - clstr_centroid, axis=1)\n",
    "\n",
    "    spearman_corr, spearman_p_value = spearmanr(clstr_df[\"label\"], l2_dists)\n",
    "    pearson_corr, pearson_p_value = pearsonr(clstr_df[\"label\"], l2_dists)\n",
    "\n",
    "    plt.title(f\"Cluster {clstr}, sprmn: {spearman_corr} p-value: {spearman_p_value}; prsn: {pearson_corr}, p-value: {pearson_p_value}\")\n",
    "    plt.scatter(clstr_df[\"label\"], l2_dists)\n",
    "    plt.show()\n",
    "\n",
    "    \n",
    "    clstr_df[\"dist\"] = l2_dists\n",
    "    \n",
    "    os.mkdir(os.path.join(save_path, str(clstr)))\n",
    "    for i, row1 in clstr_df.sort_values(by=\"dist\", ascending=False).head(5).iterrows():\n",
    "        shutil.copyfile(\n",
    "            row1[\"img_path\"],\n",
    "            os.path.join(save_path, str(clstr), os.path.basename(row1[\"img_path\"]))\n",
    "        )\n",
    "\n",
    "\n"
   ]
  },
  {
   "cell_type": "code",
   "execution_count": null,
   "id": "feff6f92",
   "metadata": {},
   "outputs": [],
   "source": []
  }
 ],
 "metadata": {
  "kernelspec": {
   "display_name": "Python 3 (ipykernel)",
   "language": "python",
   "name": "python3"
  },
  "language_info": {
   "codemirror_mode": {
    "name": "ipython",
    "version": 3
   },
   "file_extension": ".py",
   "mimetype": "text/x-python",
   "name": "python",
   "nbconvert_exporter": "python",
   "pygments_lexer": "ipython3",
   "version": "3.9.16"
  }
 },
 "nbformat": 4,
 "nbformat_minor": 5
}
