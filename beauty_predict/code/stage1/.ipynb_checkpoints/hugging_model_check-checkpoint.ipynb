{
 "cells": [
  {
   "cell_type": "code",
   "execution_count": null,
   "id": "4661a43c",
   "metadata": {},
   "outputs": [],
   "source": [
    "import pandas as pd\n",
    "from transformers import AutoFeatureExtractor, AutoModelForImageClassification, pipeline\n",
    "import torch\n",
    "from PIL import Image\n",
    "\n",
    "import os\n"
   ]
  },
  {
   "cell_type": "code",
   "execution_count": null,
   "id": "cfcb0ae2",
   "metadata": {},
   "outputs": [],
   "source": [
    "device = \"cuda:0\" if torch.cuda.is_available() else \"cpu\"\n",
    "dtype = torch.float16\n",
    "nsfw_pipe = pipeline(\"image-classification\",\n",
    "                     model=AutoModelForImageClassification.from_pretrained(\n",
    "                         \"carbon225/vit-base-patch16-224-hentai\"),\n",
    "                     feature_extractor=AutoFeatureExtractor.from_pretrained(\n",
    "                         \"carbon225/vit-base-patch16-224-hentai\"),\n",
    "                     device=device,\n",
    "                     torch_dtype=dtype)\n",
    "\n",
    "\n",
    "style_pipe = pipeline(\"image-classification\",\n",
    "                      model=AutoModelForImageClassification.from_pretrained(\n",
    "                          \"cafeai/cafe_style\"),\n",
    "                      feature_extractor=AutoFeatureExtractor.from_pretrained(\n",
    "                          \"cafeai/cafe_style\"),\n",
    "                      device=device,\n",
    "                      torch_dtype=dtype)\n",
    "\n",
    "aesthetic_pipe = pipeline(\"image-classification\",\n",
    "                          model=AutoModelForImageClassification.from_pretrained(\n",
    "                              \"cafeai/cafe_aesthetic\"),\n",
    "                          feature_extractor=AutoFeatureExtractor.from_pretrained(\n",
    "                              \"cafeai/cafe_aesthetic\"),\n",
    "                          device=device,\n",
    "                          torch_dtype=dtype)\n",
    "\n"
   ]
  },
  {
   "cell_type": "code",
   "execution_count": null,
   "id": "253cc638",
   "metadata": {},
   "outputs": [],
   "source": [
    "data_path = os.path.join(\"..\", \"..\", \"datasets\")\n",
    "full_set = pd.read_csv(os.path.join(data_path, \"full_set.csv\"))\n",
    "full_set[\"img_path\"] = full_set[\"img_path\"].transform(lambda x: os.path.join(data_path, x))\n",
    "full_set"
   ]
  },
  {
   "cell_type": "code",
   "execution_count": null,
   "id": "7cb7baff",
   "metadata": {},
   "outputs": [],
   "source": [
    "img = Image.open(full_set[\"img_path\"][0])"
   ]
  },
  {
   "cell_type": "code",
   "execution_count": null,
   "id": "882c6068",
   "metadata": {},
   "outputs": [],
   "source": [
    "img"
   ]
  },
  {
   "cell_type": "code",
   "execution_count": null,
   "id": "4ecf38ad",
   "metadata": {},
   "outputs": [],
   "source": [
    "pil_images = [img]"
   ]
  },
  {
   "cell_type": "code",
   "execution_count": null,
   "id": "1e5704d0",
   "metadata": {},
   "outputs": [],
   "source": [
    "aesthetic = aesthetic_pipe(pil_images)\n",
    "aesthetic[0][0][\"score\"]"
   ]
  },
  {
   "cell_type": "code",
   "execution_count": null,
   "id": "bd231cec",
   "metadata": {},
   "outputs": [],
   "source": [
    "nsfw = nsfw_pipe(pil_images)\n",
    "nsfw[0][0][\"score\"]"
   ]
  },
  {
   "cell_type": "code",
   "execution_count": null,
   "id": "29d2941b",
   "metadata": {},
   "outputs": [],
   "source": [
    "aesthetic_predicts = []\n",
    "for path in full_set[\"img_path\"]:\n",
    "    aesthetic_predicts.append(\n",
    "        aesthetic_pipe([Image.open(path)])\n",
    "    )\n",
    "aesthetic_scores = pd.Series(aesthetic_predicts)\n",
    "aesthetic_scores"
   ]
  },
  {
   "cell_type": "code",
   "execution_count": null,
   "id": "f4b9ca62",
   "metadata": {},
   "outputs": [],
   "source": [
    "aesthetic_scores.transform(lambda x: x[0][0][\"score\"])"
   ]
  },
  {
   "cell_type": "code",
   "execution_count": null,
   "id": "2c9033cf",
   "metadata": {},
   "outputs": [],
   "source": [
    "# comparision df\n",
    "cp_df = pd.DataFrame({\n",
    "    \"id\": full_set[\"id\"],\n",
    "    \"rating\": full_set[\"rating\"],\n",
    "    \"predict\": aesthetic_scores.transform(lambda x: x[0][0][\"score\"])\n",
    "})"
   ]
  },
  {
   "cell_type": "code",
   "execution_count": null,
   "id": "febe5beb",
   "metadata": {},
   "outputs": [],
   "source": [
    "cp_df"
   ]
  },
  {
   "cell_type": "code",
   "execution_count": null,
   "id": "931b89a8",
   "metadata": {},
   "outputs": [],
   "source": [
    "import matplotlib.pyplot as plt\n",
    "\n",
    "plt.scatter(cp_df[\"rating\"], cp_df[\"predict\"])"
   ]
  },
  {
   "cell_type": "code",
   "execution_count": null,
   "id": "70e08135",
   "metadata": {},
   "outputs": [],
   "source": [
    "plt.scatter(cp_df['predict'], [0] * 2256, c=cp_df['rating']>1, cmap='coolwarm')\n",
    "plt.xlabel('X')\n",
    "plt.ylabel('predict')\n",
    "plt.colorbar(label='rating')\n",
    "\n",
    "# Отображение графика\n",
    "plt.show()"
   ]
  },
  {
   "cell_type": "code",
   "execution_count": null,
   "id": "9c868c2a",
   "metadata": {},
   "outputs": [],
   "source": []
  }
 ],
 "metadata": {
  "kernelspec": {
   "display_name": "Python 3 (ipykernel)",
   "language": "python",
   "name": "python3"
  },
  "language_info": {
   "codemirror_mode": {
    "name": "ipython",
    "version": 3
   },
   "file_extension": ".py",
   "mimetype": "text/x-python",
   "name": "python",
   "nbconvert_exporter": "python",
   "pygments_lexer": "ipython3",
   "version": "3.9.16"
  }
 },
 "nbformat": 4,
 "nbformat_minor": 5
}
