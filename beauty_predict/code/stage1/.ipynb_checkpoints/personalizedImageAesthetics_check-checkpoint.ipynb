{
 "cells": [
  {
   "cell_type": "code",
   "execution_count": null,
   "id": "addbac87",
   "metadata": {},
   "outputs": [],
   "source": [
    "import numpy as np\n",
    "import pandas as pd\n",
    "import matplotlib.pyplot as plt\n",
    "import os\n",
    "import json\n",
    "import shutil"
   ]
  },
  {
   "cell_type": "code",
   "execution_count": null,
   "id": "60f77ec0",
   "metadata": {},
   "outputs": [],
   "source": [
    "data_path = os.path.join(\"..\", \"..\", \"datasets\")\n",
    "full_set = pd.read_csv(os.path.join(data_path, \"full_set.csv\"))\n",
    "full_set[\"img_path\"] = full_set[\"img_path\"].transform(lambda x: os.path.join(data_path, x))\n",
    "full_set"
   ]
  },
  {
   "cell_type": "code",
   "execution_count": null,
   "id": "a9e377a0",
   "metadata": {
    "scrolled": true
   },
   "outputs": [],
   "source": [
    "# full_set_res получается обычным запуском скрипта, который сохраняет в res.json, а потом руками переименовал в \n",
    "# full_ser_res.json\n",
    "with open(os.path.join(\"..\", \"..\", \"..\", \"personalizedImageAesthetics\", \"full_set_res.json\")) as f:\n",
    "    pred_json = json.load(f)\n",
    "# pred_json"
   ]
  },
  {
   "cell_type": "code",
   "execution_count": null,
   "id": "19a5c0e7",
   "metadata": {
    "scrolled": true
   },
   "outputs": [],
   "source": [
    "preds = pd.Series(pred_json[\"predictScoreAll\"])\n",
    "preds"
   ]
  },
  {
   "cell_type": "code",
   "execution_count": null,
   "id": "675cb652",
   "metadata": {},
   "outputs": [],
   "source": [
    "import matplotlib.pyplot as plt\n",
    "import math\n",
    "\n",
    "def plot_images_on_grid(dataframe, img_column, save_path):\n",
    "    num_images = len(dataframe)\n",
    "    grid_dim = math.ceil(math.sqrt(num_images))\n",
    "\n",
    "    fig, axes = plt.subplots(grid_dim, grid_dim, figsize=(10, 10))\n",
    "    axes = axes.ravel()\n",
    "\n",
    "    for i in range(grid_dim * grid_dim):\n",
    "        ax = axes[i]\n",
    "        ax.axis('off')\n",
    "\n",
    "        if i < num_images:\n",
    "            img_path = dataframe.iloc[i][img_column]\n",
    "            image = plt.imread(img_path)\n",
    "            ax.imshow(image)\n",
    "            ax.set_title(f'Image {i + 1}')\n",
    "\n",
    "    plt.tight_layout()\n",
    "    plt.savefig(f'{save_path}.png')\n",
    "    plt.show()\n"
   ]
  },
  {
   "cell_type": "code",
   "execution_count": null,
   "id": "de316e9b",
   "metadata": {},
   "outputs": [],
   "source": [
    "import numpy as np\n",
    "\n",
    "def get_thresholds(series, n):\n",
    "    thresholds = np.percentile(series, np.linspace(0, 100, n+1))\n",
    "    return thresholds.tolist()\n"
   ]
  },
  {
   "cell_type": "code",
   "execution_count": null,
   "id": "889436e4",
   "metadata": {},
   "outputs": [],
   "source": [
    "num_thrshlds = 50\n",
    "thrshlds = np.linspace(preds.min(), preds.max(), num_thrshlds).tolist()"
   ]
  },
  {
   "cell_type": "code",
   "execution_count": null,
   "id": "cd314f75",
   "metadata": {},
   "outputs": [],
   "source": [
    "num_thrshlds = 50\n",
    "thrshlds = get_thresholds(preds, num_thrshlds)"
   ]
  },
  {
   "cell_type": "code",
   "execution_count": null,
   "id": "adb69b61",
   "metadata": {},
   "outputs": [],
   "source": [
    "save_plts_dir = \"personalizedImageAesthetics_plts\"\n",
    "if os.path.exists(save_plts_dir):\n",
    "    shutil.rmtree(save_plts_dir)\n",
    "os.mkdir(save_plts_dir)"
   ]
  },
  {
   "cell_type": "code",
   "execution_count": null,
   "id": "08278617",
   "metadata": {
    "scrolled": true
   },
   "outputs": [],
   "source": [
    "for i in range(1, num_thrshlds):\n",
    "    mask = (thrshlds[i-1] < preds) & (preds <= thrshlds[i])\n",
    "    plot_images_on_grid(full_set[mask][[\"img_path\"]], \"img_path\", os.path.join(save_plts_dir, f\"group_{i}\"))"
   ]
  },
  {
   "cell_type": "markdown",
   "id": "da27f8e0",
   "metadata": {},
   "source": [
    "<h1> Best </h1>\n"
   ]
  },
  {
   "cell_type": "code",
   "execution_count": null,
   "id": "ff49d1c6",
   "metadata": {},
   "outputs": [],
   "source": [
    "threshold = 0.96"
   ]
  },
  {
   "cell_type": "code",
   "execution_count": null,
   "id": "6dc2640d",
   "metadata": {},
   "outputs": [],
   "source": [
    "plt.scatter(full_set[\"rating\"], preds)\n",
    "plt.scatter(full_set[\"rating\"][preds>threshold], preds[preds>threshold])"
   ]
  },
  {
   "cell_type": "code",
   "execution_count": null,
   "id": "ec05a437",
   "metadata": {
    "scrolled": true
   },
   "outputs": [],
   "source": [
    "cluster_df = pd.read_csv(os.path.join(\"clusters\", \"ViT-B32_img\", \"KMeans\", \"info.csv\"))\n",
    "cluster_df"
   ]
  },
  {
   "cell_type": "code",
   "execution_count": null,
   "id": "335f528d",
   "metadata": {
    "scrolled": true
   },
   "outputs": [],
   "source": [
    "for cl_num in cluster_df[\"cl\"].unique():\n",
    "    cl_pred = preds[cluster_df[\"cl\"] == cl_num]\n",
    "    cl_rating = full_set[cluster_df[\"cl\"] == cl_num][\"rating\"]\n",
    "    \n",
    "    plt.scatter(cl_rating, cl_pred)\n",
    "    plt.scatter(cl_rating[cl_pred>threshold], cl_pred[cl_pred>threshold])\n",
    "    plt.title(f\"cluster {cl_num}\")\n",
    "    plt.show()"
   ]
  },
  {
   "cell_type": "code",
   "execution_count": null,
   "id": "ea97e6ad",
   "metadata": {
    "scrolled": false
   },
   "outputs": [],
   "source": [
    "full_set[[\"id\"]][preds>threshold]"
   ]
  },
  {
   "cell_type": "code",
   "execution_count": null,
   "id": "8bf44398",
   "metadata": {},
   "outputs": [],
   "source": [
    "save_path = f\"personalizedImageAesthetics__best[{threshold}]\"\n",
    "if os.path.exists(save_path):\n",
    "    shutil.rmtree(save_path)\n",
    "os.mkdir(save_path)\n",
    "    \n",
    "for index, row in full_set[preds>threshold].iterrows():\n",
    "    shutil.copy(\n",
    "        row[\"img_path\"],\n",
    "        os.path.join(\n",
    "            save_path,\n",
    "            os.path.basename(row[\"img_path\"])+f\"[rating_{row['rating']}]\")\n",
    "    )"
   ]
  },
  {
   "cell_type": "markdown",
   "id": "3fc4695b",
   "metadata": {},
   "source": [
    "<h1> Worth </h1>"
   ]
  },
  {
   "cell_type": "code",
   "execution_count": null,
   "id": "5f2e50be",
   "metadata": {},
   "outputs": [],
   "source": [
    "threshold = 0.5"
   ]
  },
  {
   "cell_type": "code",
   "execution_count": null,
   "id": "64f60dc1",
   "metadata": {},
   "outputs": [],
   "source": [
    "plt.scatter(full_set[\"rating\"], preds)\n",
    "plt.scatter(full_set[\"rating\"][preds<threshold], preds[preds<threshold])"
   ]
  },
  {
   "cell_type": "code",
   "execution_count": null,
   "id": "24068a07",
   "metadata": {},
   "outputs": [],
   "source": [
    "cluster_df = pd.read_csv(os.path.join(\"clusters\", \"ViT-B32_img\", \"KMeans\", \"info.csv\"))\n",
    "cluster_df"
   ]
  },
  {
   "cell_type": "code",
   "execution_count": null,
   "id": "4c86521f",
   "metadata": {},
   "outputs": [],
   "source": [
    "for cl_num in cluster_df[\"cl\"].unique():\n",
    "    cl_pred = preds[cluster_df[\"cl\"] == cl_num]\n",
    "    cl_rating = full_set[cluster_df[\"cl\"] == cl_num][\"rating\"]\n",
    "    \n",
    "    plt.scatter(cl_rating, cl_pred)\n",
    "    plt.scatter(cl_rating[cl_pred<threshold], cl_pred[cl_pred<threshold])\n",
    "    plt.title(f\"cluster {cl_num}\")\n",
    "    plt.show()"
   ]
  },
  {
   "cell_type": "code",
   "execution_count": null,
   "id": "2b40550e",
   "metadata": {},
   "outputs": [],
   "source": [
    "full_set[[\"id\"]][preds<threshold]"
   ]
  },
  {
   "cell_type": "code",
   "execution_count": null,
   "id": "4c7eb273",
   "metadata": {},
   "outputs": [],
   "source": [
    "save_path = f\"personalizedImageAesthetics_Worth[{threshold}]\"\n",
    "if os.path.exists(save_path):\n",
    "    shutil.rmtree(save_path)\n",
    "os.mkdir(save_path)\n",
    "    \n",
    "for index, row in full_set[preds<threshold].iterrows():\n",
    "    shutil.copy(\n",
    "        row[\"img_path\"],\n",
    "        os.path.join(\n",
    "            save_path,\n",
    "            os.path.basename(row[\"img_path\"])+f\"[{row['rating']}]\")\n",
    "    )"
   ]
  },
  {
   "cell_type": "code",
   "execution_count": null,
   "id": "b48dd23c",
   "metadata": {},
   "outputs": [],
   "source": []
  },
  {
   "cell_type": "code",
   "execution_count": null,
   "id": "5b792e38",
   "metadata": {},
   "outputs": [],
   "source": []
  },
  {
   "cell_type": "code",
   "execution_count": null,
   "id": "e0066e7a",
   "metadata": {},
   "outputs": [],
   "source": []
  }
 ],
 "metadata": {
  "kernelspec": {
   "display_name": "Python 3 (ipykernel)",
   "language": "python",
   "name": "python3"
  },
  "language_info": {
   "codemirror_mode": {
    "name": "ipython",
    "version": 3
   },
   "file_extension": ".py",
   "mimetype": "text/x-python",
   "name": "python",
   "nbconvert_exporter": "python",
   "pygments_lexer": "ipython3",
   "version": "3.9.16"
  }
 },
 "nbformat": 4,
 "nbformat_minor": 5
}
