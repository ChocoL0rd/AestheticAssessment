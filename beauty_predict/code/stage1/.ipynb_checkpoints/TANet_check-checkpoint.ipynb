{
 "cells": [
  {
   "cell_type": "code",
   "execution_count": null,
   "id": "b343149a",
   "metadata": {},
   "outputs": [],
   "source": [
    "import pandas as pd\n",
    "import os\n",
    "import matplotlib.pyplot as plt\n",
    "import shutil"
   ]
  },
  {
   "cell_type": "code",
   "execution_count": null,
   "id": "e1c518ae",
   "metadata": {},
   "outputs": [],
   "source": [
    "src = os.path.join(\"..\", \"..\", \"..\", \"TANet\", \"code\", \"TAD66K\", \"my_res.csv\")\n",
    "preds = pd.read_csv(src)[\"preds\"]\n",
    "preds"
   ]
  },
  {
   "cell_type": "code",
   "execution_count": null,
   "id": "e48ab999",
   "metadata": {},
   "outputs": [],
   "source": [
    "data_path = os.path.join(\"..\", \"..\", \"datasets\")\n",
    "full_set = pd.read_csv(os.path.join(data_path, \"full_set.csv\"))\n",
    "full_set[\"img_path\"] = full_set[\"img_path\"].transform(lambda x: os.path.join(data_path, x))\n",
    "full_set"
   ]
  },
  {
   "cell_type": "code",
   "execution_count": null,
   "id": "eff2dfbe",
   "metadata": {},
   "outputs": [],
   "source": [
    "plt.scatter(full_set[\"rating\"], preds)"
   ]
  },
  {
   "cell_type": "code",
   "execution_count": null,
   "id": "7d6013a2",
   "metadata": {},
   "outputs": [],
   "source": []
  },
  {
   "cell_type": "code",
   "execution_count": null,
   "id": "ff49d1c6",
   "metadata": {},
   "outputs": [],
   "source": [
    "threshold = 0.7"
   ]
  },
  {
   "cell_type": "code",
   "execution_count": null,
   "id": "6dc2640d",
   "metadata": {},
   "outputs": [],
   "source": [
    "plt.scatter(full_set[\"rating\"], preds)\n",
    "plt.scatter(full_set[\"rating\"][preds>threshold], preds[preds>threshold])"
   ]
  },
  {
   "cell_type": "code",
   "execution_count": null,
   "id": "ec05a437",
   "metadata": {
    "scrolled": false
   },
   "outputs": [],
   "source": [
    "cluster_df = pd.read_csv(os.path.join(\"clusters\", \"ViT-B32_both\", \"KMeans\", \"info.csv\"))\n",
    "cluster_df"
   ]
  },
  {
   "cell_type": "code",
   "execution_count": null,
   "id": "335f528d",
   "metadata": {
    "scrolled": true
   },
   "outputs": [],
   "source": [
    "for cl_num in cluster_df[\"cl\"].unique():\n",
    "    cl_pred = preds[cluster_df[\"cl\"] == cl_num]\n",
    "    cl_rating = full_set[cluster_df[\"cl\"] == cl_num][\"rating\"]\n",
    "    \n",
    "    plt.scatter(cl_rating, cl_pred)\n",
    "    plt.scatter(cl_rating[cl_pred>threshold], cl_pred[cl_pred>threshold])\n",
    "    plt.title(f\"cluster {cl_num}\")\n",
    "    plt.show()"
   ]
  },
  {
   "cell_type": "code",
   "execution_count": null,
   "id": "ea97e6ad",
   "metadata": {
    "scrolled": true
   },
   "outputs": [],
   "source": [
    "full_set[[\"id\"]][preds>threshold]"
   ]
  },
  {
   "cell_type": "code",
   "execution_count": null,
   "id": "8bf44398",
   "metadata": {},
   "outputs": [],
   "source": [
    "save_path = f\"TANet_TAD66K_best[{threshold}]\"\n",
    "if os.path.exists(save_path):\n",
    "    shutil.rmtree(save_path)\n",
    "os.mkdir(save_path)\n",
    "    \n",
    "for index, row in full_set[preds>threshold].iterrows():\n",
    "    shutil.copy(\n",
    "        row[\"img_path\"],\n",
    "        os.path.join(\n",
    "            save_path,\n",
    "            os.path.basename(row[\"img_path\"])+f\"[{row['rating']}]\")\n",
    "    )"
   ]
  },
  {
   "cell_type": "code",
   "execution_count": null,
   "id": "26dbbb9b",
   "metadata": {},
   "outputs": [],
   "source": [
    "threshold = 0.42"
   ]
  },
  {
   "cell_type": "code",
   "execution_count": null,
   "id": "5b0f22fd",
   "metadata": {},
   "outputs": [],
   "source": [
    "plt.scatter(full_set[\"rating\"], preds)\n",
    "plt.scatter(full_set[\"rating\"][preds<threshold], preds[preds<threshold])"
   ]
  },
  {
   "cell_type": "code",
   "execution_count": null,
   "id": "f8fa987e",
   "metadata": {},
   "outputs": [],
   "source": [
    "save_path = f\"TANet_TAD66K_worth[{threshold}]\"\n",
    "if os.path.exists(save_path):\n",
    "    shutil.rmtree(save_path)\n",
    "os.mkdir(save_path)\n",
    "    \n",
    "for index, row in full_set[preds<threshold].iterrows():\n",
    "    shutil.copy(\n",
    "        row[\"img_path\"],\n",
    "        os.path.join(\n",
    "            save_path,\n",
    "            os.path.basename(row[\"img_path\"])+f\"[{row['rating']}]\")\n",
    "    )"
   ]
  },
  {
   "cell_type": "code",
   "execution_count": null,
   "id": "3194545b",
   "metadata": {},
   "outputs": [],
   "source": []
  },
  {
   "cell_type": "code",
   "execution_count": null,
   "id": "a66721e4",
   "metadata": {},
   "outputs": [],
   "source": []
  },
  {
   "cell_type": "code",
   "execution_count": null,
   "id": "691fa881",
   "metadata": {},
   "outputs": [],
   "source": []
  },
  {
   "cell_type": "code",
   "execution_count": null,
   "id": "c62bd160",
   "metadata": {},
   "outputs": [],
   "source": []
  },
  {
   "cell_type": "code",
   "execution_count": null,
   "id": "14430c5b",
   "metadata": {},
   "outputs": [],
   "source": [
    "src = os.path.join(\"..\", \"..\", \"..\", \"TANet\", \"code\", \"AVA\", \"my_res.csv\")\n",
    "preds = pd.read_csv(src)[\"preds\"]\n",
    "preds"
   ]
  },
  {
   "cell_type": "code",
   "execution_count": null,
   "id": "07b67e89",
   "metadata": {},
   "outputs": [],
   "source": [
    "plt.scatter(full_set[\"rating\"], preds)"
   ]
  }
 ],
 "metadata": {
  "kernelspec": {
   "display_name": "Python 3 (ipykernel)",
   "language": "python",
   "name": "python3"
  },
  "language_info": {
   "codemirror_mode": {
    "name": "ipython",
    "version": 3
   },
   "file_extension": ".py",
   "mimetype": "text/x-python",
   "name": "python",
   "nbconvert_exporter": "python",
   "pygments_lexer": "ipython3",
   "version": "3.9.16"
  }
 },
 "nbformat": 4,
 "nbformat_minor": 5
}
