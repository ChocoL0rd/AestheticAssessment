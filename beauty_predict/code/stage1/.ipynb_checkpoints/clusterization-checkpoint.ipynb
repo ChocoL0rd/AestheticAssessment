{
 "cells": [
  {
   "cell_type": "code",
   "execution_count": null,
   "id": "1233569d",
   "metadata": {},
   "outputs": [],
   "source": [
    "import numpy as np\n",
    "import pandas as pd\n",
    "from sklearn.manifold import TSNE\n",
    "import matplotlib.pyplot as plt\n",
    "import os\n",
    "import shutil\n",
    "from tqdm import tqdm\n",
    "from PIL import Image\n",
    "from sklearn.cluster import DBSCAN, KMeans\n",
    "from sklearn.preprocessing import StandardScaler\n",
    "import torch\n",
    "import clip"
   ]
  },
  {
   "cell_type": "code",
   "execution_count": null,
   "id": "928c2c62",
   "metadata": {},
   "outputs": [],
   "source": [
    "def create_tsne(df):\n",
    "    # Select the numerical columns from the DataFrame\n",
    "    numerical_columns = df.select_dtypes(include=[np.float64])\n",
    "\n",
    "    # Perform T-SNE on the numerical columns\n",
    "    tsne = TSNE(n_components=2, random_state=42)\n",
    "    tsne_results = tsne.fit_transform(numerical_columns)\n",
    "    \n",
    "    return tsne, tsne_results"
   ]
  },
  {
   "cell_type": "code",
   "execution_count": null,
   "id": "6fa15a89",
   "metadata": {},
   "outputs": [],
   "source": [
    "def save_clusters_by_column2(df, dst, cluster_col, cluster_nums):\n",
    "    # в dst (destination) создает папки с названиями \n",
    "    # номеров кластеров и копирует картинки туда, \n",
    "    # cluster_col - колонка, с номерами кластеров (не название)\n",
    "    # к каждому имени картинки прикрепляет его ранг\n",
    "    # сохраняет в dst csv файл с датафреймом о кластеризации\n",
    "    # возвращает датафрейм с колонками: номер кластера, \n",
    "    # среднее, стандартное отклонение по каждому рангу,\n",
    "    # кол-во картинок определенного ранга для каждого ранга\n",
    "    \n",
    "    if not os.path.exists(dst):\n",
    "        os.makedirs(dst)\n",
    "    else:\n",
    "        shutil.rmtree(dst)\n",
    "        os.makedirs(dst)\n",
    "    \n",
    "    means = []\n",
    "    stds = []\n",
    "    nums = {\n",
    "        0: [],\n",
    "        1: [],\n",
    "        2: [],\n",
    "        3: []\n",
    "    }\n",
    "    \n",
    "    pd.DataFrame({\n",
    "        \"id\": df[\"id\"],\n",
    "        \"cl\": cluster_col\n",
    "    }).to_csv(os.path.join(dst, \"info.csv\"), index=False)\n",
    "    \n",
    "    for cluster_num in cluster_nums:\n",
    "        cl_df = df[cluster_col==cluster_num]\n",
    "        cl_rating_df = cl_df[\"rating\"]\n",
    "        \n",
    "        for i in range(4):\n",
    "            nums[i].append(cl_df[cl_rating_df == i][\"id\"].count())\n",
    "            \n",
    "        \n",
    "        cl_mean = cl_rating_df.mean()\n",
    "        cl_std = cl_rating_df.std()\n",
    "        \n",
    "        means.append(cl_mean)\n",
    "        stds.append(cl_std)\n",
    "        \n",
    "        cl_dir_name = str(cluster_num) + f\"[mean_{cl_mean}][std_{cl_std}]\"\n",
    "        cl_dir_path = os.path.join(dst, cl_dir_name)\n",
    "        \n",
    "        os.mkdir(os.path.join(dst, cl_dir_name))\n",
    "        cl_df = df[cluster_col==cluster_num]\n",
    "        cl_df[[\"id\", \"rating\", \"img_generation_promt\"]].to_csv(os.path.join(cl_dir_path, \"cl_info.csv\"), index=False)\n",
    "        for index, row in cl_df.iterrows():\n",
    "            shutil.copyfile(row[\"img_path\"], os.path.join(cl_dir_path, \n",
    "                                                          os.path.basename(row[\"img_path\"])+f\"[{row['rating']}]\"))\n",
    "        \n",
    "    return pd.DataFrame({\n",
    "        \"cluster\": cluster_nums,\n",
    "        \"mean\": means,\n",
    "        \"std\": stds,\n",
    "        **nums\n",
    "    })"
   ]
  },
  {
   "cell_type": "code",
   "execution_count": null,
   "id": "e3f7f4cd",
   "metadata": {},
   "outputs": [],
   "source": [
    "data_path = os.path.join(\"..\", \"..\", \"datasets\")\n",
    "full_set = pd.read_csv(os.path.join(data_path, \"full_set.csv\"))\n",
    "full_set[\"img_path\"] = full_set[\"img_path\"].transform(lambda x: os.path.join(data_path, x))\n",
    "full_set"
   ]
  },
  {
   "cell_type": "code",
   "execution_count": null,
   "id": "07bd4099",
   "metadata": {},
   "outputs": [],
   "source": [
    "emb_dir = os.path.join(data_path, \"embeddings\")"
   ]
  },
  {
   "cell_type": "markdown",
   "id": "c138b939",
   "metadata": {},
   "source": [
    "<h1> ViT-B32_img </h1>"
   ]
  },
  {
   "cell_type": "code",
   "execution_count": null,
   "id": "45c70d52",
   "metadata": {},
   "outputs": [],
   "source": [
    "name = \"ViT-B32_img\"\n",
    "\n",
    "df = pd.read_csv(os.path.join(emb_dir, f\"{name}.csv\"))\n",
    "\n",
    "merged_df = full_set[[\"id\", \"rating\"]].merge(df, on=\"id\").rename(\n",
    "    {\n",
    "        \"rating\": \"label\"\n",
    "    }, axis=1)\n",
    "\n",
    "numerical_columns = merged_df.select_dtypes(include=[np.float64])\n",
    "\n",
    "tsne = TSNE(n_components=2, random_state=42)\n",
    "tsne_results = tsne.fit_transform(numerical_columns)\n",
    "\n",
    "tsne_df = pd.DataFrame(tsne_results, columns=['TSNE1', 'TSNE2'])"
   ]
  },
  {
   "cell_type": "code",
   "execution_count": null,
   "id": "a9a795b0",
   "metadata": {},
   "outputs": [],
   "source": [
    "# Train KMeans on the numerical columns\n",
    "n_clusters=40\n",
    "kmeans = KMeans(n_clusters=n_clusters, n_init=\"auto\", max_iter=1000, random_state=0)\n",
    "clusters = kmeans.fit_predict(merged_df.select_dtypes(include=[np.float64]))\n",
    "\n",
    "# Create a new DataFrame with the cluster labels\n",
    "cluster_df = pd.DataFrame(clusters, columns=['cluster'])\n",
    "\n",
    "combined_df = pd.concat([tsne_df, cluster_df], axis=1)\n",
    "centroids = combined_df.groupby('cluster').mean()\n",
    "\n",
    "cl_promt_df = pd.DataFrame({\n",
    "    \"id\": full_set[\"id\"],\n",
    "    \"cl\": clusters,\n",
    "    \"promt\": full_set[\"img_generation_promt\"]\n",
    "})\n",
    "\n",
    "scatter = []\n",
    "for cluster in centroids.index:\n",
    "    cluster_data = combined_df[combined_df['cluster'] == cluster]\n",
    "    \n",
    "    promt_cl_text = \n",
    "    \n",
    "    scatter.append(plt.scatter(cluster_data['TSNE1'], cluster_data['TSNE2'], label=f'cluster {cluster}'))\n",
    "\n",
    "    centroid = centroids.loc[cluster]\n",
    "    plt.annotate(f'cluster {cluster}', (centroid['TSNE1'], centroid['TSNE2']),\n",
    "                 horizontalalignment='center', verticalalignment='center',\n",
    "                 fontsize=10, color='black')\n",
    "\n",
    "plt.xlabel('TSNE1')\n",
    "plt.ylabel('TSNE2')\n",
    "plt.title('KMeans Clustering')\n"
   ]
  },
  {
   "cell_type": "code",
   "execution_count": null,
   "id": "d9dd0fa3",
   "metadata": {},
   "outputs": [],
   "source": [
    "cl_infos = save_clusters_by_column2(full_set, os.path.join(\"clusters\", name, \"KMeans\"), \n",
    "               combined_df['cluster'], \n",
    "               range(n_clusters))"
   ]
  },
  {
   "cell_type": "code",
   "execution_count": null,
   "id": "f9c84bc8",
   "metadata": {
    "scrolled": false
   },
   "outputs": [],
   "source": [
    "plt.bar(cl_infos[\"cluster\"], cl_infos[\"mean\"])\n",
    "plt.title(\"mean\")\n",
    "plt.show()\n",
    "\n",
    "\n",
    "# for i in [\"mean\", \"std\", 0, 1, 2, 3]:\n",
    "#     plt.bar(cl_infos[\"cluster\"], cl_infos[i])\n",
    "#     plt.title(i)\n",
    "#     plt.show()"
   ]
  },
  {
   "cell_type": "markdown",
   "id": "1a03d8cb",
   "metadata": {},
   "source": [
    "<h1> ViT-B32_text </h1>"
   ]
  },
  {
   "cell_type": "code",
   "execution_count": null,
   "id": "48a52482",
   "metadata": {},
   "outputs": [],
   "source": [
    "name = \"ViT-B32_text\"\n",
    "cl_infos = save_clusters_by_column2(full_set, os.path.join(\"clusters\", name, \"KMeans\"), \n",
    "               combined_df['cluster'], \n",
    "               range(n_clusters))\n",
    "df = pd.read_csv(os.path.join(emb_dir, f\"{name}.csv\"))\n",
    "\n",
    "merged_df = full_set[[\"id\", \"rating\"]].merge(df, on=\"id\").rename(\n",
    "    {\n",
    "        \"rating\": \"label\"\n",
    "    }, axis=1)\n",
    "\n",
    "numerical_columns = merged_df.select_dtypes(include=[np.float64])\n",
    "\n",
    "tsne = TSNE(n_components=2, random_state=42)\n",
    "tsne_results = tsne.fit_transform(numerical_columns)\n",
    "\n",
    "tsne_df = pd.DataFrame(tsne_results, columns=['TSNE1', 'TSNE2'])"
   ]
  },
  {
   "cell_type": "code",
   "execution_count": null,
   "id": "e1bd51f6",
   "metadata": {},
   "outputs": [],
   "source": [
    "# Train KMeans on the numerical columns\n",
    "n_clusters=40\n",
    "kmeans = KMeans(n_clusters=n_clusters, n_init=\"auto\", max_iter=1000, random_state=0)\n",
    "clusters = kmeans.fit_predict(merged_df.select_dtypes(include=[np.float64]))\n",
    "\n",
    "# Create a new DataFrame with the cluster labels\n",
    "cluster_df = pd.DataFrame(clusters, columns=['cluster'])\n",
    "\n",
    "combined_df = pd.concat([tsne_df, cluster_df], axis=1)\n",
    "unique_clusters = combined_df['cluster'].unique()\n",
    "scatter = []\n",
    "for cluster in unique_clusters:\n",
    "    cluster_data = combined_df[combined_df['cluster'] == cluster]\n",
    "    plt.scatter(cluster_data['TSNE1'], cluster_data['TSNE2'], label=f'cluster {cluster}')\n",
    "\n",
    "plt.xlabel('TSNE1')\n",
    "plt.ylabel('TSNE2')\n",
    "plt.title('KMeans Clustering')\n",
    "plt.legend()"
   ]
  },
  {
   "cell_type": "code",
   "execution_count": null,
   "id": "be88fb1e",
   "metadata": {},
   "outputs": [],
   "source": [
    "# Train KMeans on the numerical columns\n",
    "n_clusters=40\n",
    "kmeans = KMeans(n_clusters=n_clusters, n_init=\"auto\", max_iter=1000, random_state=0)\n",
    "clusters = kmeans.fit_predict(merged_df.select_dtypes(include=[np.float64]))\n",
    "\n",
    "# Create a new DataFrame with the cluster labels\n",
    "cluster_df = pd.DataFrame(clusters, columns=['cluster'])\n",
    "\n",
    "combined_df = pd.concat([tsne_df, cluster_df], axis=1)\n",
    "centroids = combined_df.groupby('cluster').mean()\n",
    "\n",
    "scatter = []\n",
    "for cluster in centroids.index:\n",
    "    cluster_data = combined_df[combined_df['cluster'] == cluster]\n",
    "    scatter.append(plt.scatter(cluster_data['TSNE1'], cluster_data['TSNE2'], label=f'cluster {cluster}'))\n",
    "\n",
    "    centroid = centroids.loc[cluster]\n",
    "    plt.annotate(f'cluster {cluster}', (centroid['TSNE1'], centroid['TSNE2']),\n",
    "                 horizontalalignment='center', verticalalignment='center',\n",
    "                 fontsize=10, color='black')\n",
    "\n",
    "plt.xlabel('TSNE1')\n",
    "plt.ylabel('TSNE2')\n",
    "plt.title('KMeans Clustering')\n"
   ]
  },
  {
   "cell_type": "code",
   "execution_count": null,
   "id": "fa82a836",
   "metadata": {},
   "outputs": [],
   "source": [
    "cl_infos = save_clusters_by_column2(full_set, os.path.join(\"clusters\", name, \"KMeans\"), \n",
    "               combined_df['cluster'], \n",
    "               range(n_clusters))"
   ]
  },
  {
   "cell_type": "code",
   "execution_count": null,
   "id": "ce0e2e47",
   "metadata": {
    "scrolled": false
   },
   "outputs": [],
   "source": [
    "plt.bar(cl_infos[\"cluster\"], cl_infos[\"mean\"])\n",
    "plt.title(\"mean\")\n",
    "plt.show()\n",
    "\n",
    "\n",
    "# for i in [\"mean\", \"std\", 0, 1, 2, 3]:\n",
    "#     plt.bar(cl_infos[\"cluster\"], cl_infos[i])\n",
    "#     plt.title(i)\n",
    "#     plt.show()"
   ]
  },
  {
   "cell_type": "markdown",
   "id": "c0c3e741",
   "metadata": {},
   "source": [
    "<h1> ViT-B32_both </h1>"
   ]
  },
  {
   "cell_type": "code",
   "execution_count": null,
   "id": "3d78b08f",
   "metadata": {},
   "outputs": [],
   "source": [
    "name = \"ViT-B32_both\"\n",
    "\n",
    "df = pd.read_csv(os.path.join(emb_dir, f\"{name}.csv\"))\n",
    "\n",
    "merged_df = full_set[[\"id\", \"rating\"]].merge(df, on=\"id\").rename(\n",
    "    {\n",
    "        \"rating\": \"label\"\n",
    "    }, axis=1)\n",
    "\n",
    "numerical_columns = merged_df.select_dtypes(include=[np.float64])\n",
    "\n",
    "tsne = TSNE(n_components=2, random_state=42)\n",
    "tsne_results = tsne.fit_transform(numerical_columns)\n",
    "\n",
    "tsne_df = pd.DataFrame(tsne_results, columns=['TSNE1', 'TSNE2'])"
   ]
  },
  {
   "cell_type": "code",
   "execution_count": null,
   "id": "5e0685d7",
   "metadata": {},
   "outputs": [],
   "source": [
    "# Train KMeans on the numerical columns\n",
    "n_clusters=40\n",
    "kmeans = KMeans(n_clusters=n_clusters, n_init=\"auto\", max_iter=1000, random_state=0)\n",
    "clusters = kmeans.fit_predict(merged_df.select_dtypes(include=[np.float64]))\n",
    "\n",
    "# Create a new DataFrame with the cluster labels\n",
    "cluster_df = pd.DataFrame(clusters, columns=['cluster'])\n",
    "\n",
    "combined_df = pd.concat([tsne_df, cluster_df], axis=1)\n",
    "unique_clusters = combined_df['cluster'].unique()\n",
    "scatter = []\n",
    "for cluster in unique_clusters:\n",
    "    cluster_data = combined_df[combined_df['cluster'] == cluster]\n",
    "    plt.scatter(cluster_data['TSNE1'], cluster_data['TSNE2'], label=f'cluster {cluster}')\n",
    "\n",
    "plt.xlabel('TSNE1')\n",
    "plt.ylabel('TSNE2')\n",
    "plt.title('KMeans Clustering')\n",
    "plt.legend()"
   ]
  },
  {
   "cell_type": "code",
   "execution_count": null,
   "id": "d7dcdd34",
   "metadata": {},
   "outputs": [],
   "source": [
    "# Train KMeans on the numerical columns\n",
    "n_clusters=40\n",
    "kmeans = KMeans(n_clusters=n_clusters, n_init=\"auto\", max_iter=1000, random_state=0)\n",
    "clusters = kmeans.fit_predict(merged_df.select_dtypes(include=[np.float64]))\n",
    "\n",
    "# Create a new DataFrame with the cluster labels\n",
    "cluster_df = pd.DataFrame(clusters, columns=['cluster'])\n",
    "\n",
    "combined_df = pd.concat([tsne_df, cluster_df], axis=1)\n",
    "centroids = combined_df.groupby('cluster').mean()\n",
    "\n",
    "\n",
    "scatter = []\n",
    "for cluster in centroids.index:\n",
    "    cluster_data = combined_df[combined_df['cluster'] == cluster]\n",
    "    scatter.append(plt.scatter(cluster_data['TSNE1'], cluster_data['TSNE2'], label=f'cluster {cluster}'))\n",
    "\n",
    "    centroid = centroids.loc[cluster]\n",
    "    plt.annotate(f'cluster {cluster}', (centroid['TSNE1'], centroid['TSNE2']),\n",
    "                 horizontalalignment='center', verticalalignment='center',\n",
    "                 fontsize=10, color='black')\n",
    "\n",
    "plt.xlabel('TSNE1')\n",
    "plt.ylabel('TSNE2')\n",
    "plt.title('KMeans Clustering')\n"
   ]
  },
  {
   "cell_type": "code",
   "execution_count": null,
   "id": "76d73297",
   "metadata": {},
   "outputs": [],
   "source": [
    "cl_infos = save_clusters_by_column2(full_set, os.path.join(\"clusters\", name, \"KMeans\"), \n",
    "               combined_df['cluster'], \n",
    "               range(n_clusters))"
   ]
  },
  {
   "cell_type": "code",
   "execution_count": null,
   "id": "cc59f812",
   "metadata": {
    "scrolled": false
   },
   "outputs": [],
   "source": [
    "plt.bar(cl_infos[\"cluster\"], cl_infos[\"mean\"])\n",
    "plt.title(\"mean\")\n",
    "plt.show()\n",
    "\n",
    "\n",
    "# for i in [\"mean\", \"std\", 0, 1, 2, 3]:\n",
    "#     plt.bar(cl_infos[\"cluster\"], cl_infos[i])\n",
    "#     plt.title(i)\n",
    "#     plt.show()"
   ]
  },
  {
   "cell_type": "markdown",
   "id": "b2e63a7f",
   "metadata": {},
   "source": [
    " "
   ]
  },
  {
   "cell_type": "code",
   "execution_count": null,
   "id": "adc96438",
   "metadata": {},
   "outputs": [],
   "source": []
  }
 ],
 "metadata": {
  "kernelspec": {
   "display_name": "Python 3 (ipykernel)",
   "language": "python",
   "name": "python3"
  },
  "language_info": {
   "codemirror_mode": {
    "name": "ipython",
    "version": 3
   },
   "file_extension": ".py",
   "mimetype": "text/x-python",
   "name": "python",
   "nbconvert_exporter": "python",
   "pygments_lexer": "ipython3",
   "version": "3.9.16"
  }
 },
 "nbformat": 4,
 "nbformat_minor": 5
}
