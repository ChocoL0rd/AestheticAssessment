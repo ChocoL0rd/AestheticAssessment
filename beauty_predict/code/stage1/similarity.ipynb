{
 "cells": [
  {
   "cell_type": "code",
   "execution_count": null,
   "id": "1f1402d1",
   "metadata": {},
   "outputs": [],
   "source": [
    "import pandas as pd\n",
    "import torch\n",
    "import os\n",
    "import matplotlib.pyplot as plt"
   ]
  },
  {
   "cell_type": "code",
   "execution_count": null,
   "id": "12b1804a",
   "metadata": {},
   "outputs": [],
   "source": [
    "data_path = os.path.join(\"..\", \"..\", \"datasets\")\n",
    "full_set = pd.read_csv(os.path.join(data_path, \"full_set.csv\"))\n",
    "full_set[\"img_path\"] = full_set[\"img_path\"].transform(lambda x: os.path.join(data_path, x))\n",
    "full_set"
   ]
  },
  {
   "cell_type": "code",
   "execution_count": null,
   "id": "85956267",
   "metadata": {},
   "outputs": [],
   "source": [
    "name = \"ViT-B32\"\n",
    "\n",
    "img_emb = pd.read_csv(os.path.join(data_path, \"embeddings\", f\"{name}_img.csv\"))\n",
    "text_emb = pd.read_csv(os.path.join(data_path, \"embeddings\", f\"{name}_text.csv\"))"
   ]
  },
  {
   "cell_type": "code",
   "execution_count": null,
   "id": "44ed076e",
   "metadata": {},
   "outputs": [],
   "source": [
    "img_emb_tensor = torch.tensor(img_emb.drop(\"id\", axis=1).values, dtype=torch.float16).float()"
   ]
  },
  {
   "cell_type": "code",
   "execution_count": null,
   "id": "d5989810",
   "metadata": {},
   "outputs": [],
   "source": [
    "text_emb_tensor = torch.tensor(text_emb.drop(\"id\", axis=1).values, dtype=torch.float16).float()"
   ]
  },
  {
   "cell_type": "code",
   "execution_count": null,
   "id": "94fa08b4",
   "metadata": {},
   "outputs": [],
   "source": [
    "img_emb_tensor"
   ]
  },
  {
   "cell_type": "code",
   "execution_count": null,
   "id": "7ef18287",
   "metadata": {},
   "outputs": [],
   "source": [
    "normed_img_emb = torch.nn.functional.normalize(img_emb_tensor, p=2, dim=1)\n",
    "normed_text_emb = torch.nn.functional.normalize(text_emb_tensor, p=2, dim=1)"
   ]
  },
  {
   "cell_type": "code",
   "execution_count": null,
   "id": "d011034c",
   "metadata": {},
   "outputs": [],
   "source": [
    "cosines = []\n",
    "for i in range(img_emb.shape[0]):\n",
    "    cosines.append(float(torch.dot(normed_img_emb[i], normed_text_emb[i])))"
   ]
  },
  {
   "cell_type": "code",
   "execution_count": null,
   "id": "6e4bb2a9",
   "metadata": {},
   "outputs": [],
   "source": [
    "plt.scatter(full_set[\"rating\"], cosines)"
   ]
  },
  {
   "cell_type": "code",
   "execution_count": null,
   "id": "398193e5",
   "metadata": {},
   "outputs": [],
   "source": []
  }
 ],
 "metadata": {
  "kernelspec": {
   "display_name": "Python 3 (ipykernel)",
   "language": "python",
   "name": "python3"
  },
  "language_info": {
   "codemirror_mode": {
    "name": "ipython",
    "version": 3
   },
   "file_extension": ".py",
   "mimetype": "text/x-python",
   "name": "python",
   "nbconvert_exporter": "python",
   "pygments_lexer": "ipython3",
   "version": "3.9.16"
  }
 },
 "nbformat": 4,
 "nbformat_minor": 5
}
